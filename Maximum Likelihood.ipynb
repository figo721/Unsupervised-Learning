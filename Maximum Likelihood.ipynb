{
 "cells": [
  {
   "cell_type": "markdown",
   "metadata": {},
   "source": [
    "<h1 style=\"color:rgb(0,120,170)\">Maximum Likelihood</h1>"
   ]
  },
  {
   "cell_type": "markdown",
   "metadata": {},
   "source": [
    "This material, no matter whether in printed or electronic form, may be used for personal and non-commercial educational use only. Any reproduction of this material, no matter whether as a whole or in parts, no matter whether in printed or in electronic form, requires explicit prior acceptance of the authors."
   ]
  },
  {
   "cell_type": "markdown",
   "metadata": {},
   "source": [
    "<h2 style=\"color:rgb(0,120,170)\">Task 1: Formula for Maximum Likelihood of Poisson Distribution</h2>\n",
    "\n",
    "Compute the Maximum Likelihood Estimator for the parameter $\\lambda$ of a\n",
    "Poisson distribution. This means: Assuming we have data samples ${x_{1},x_{2},...,x_{n}}$, we want to\n",
    "find the $\\lambda$ that maximizes\n",
    "\n",
    "$$\n",
    "\\prod_{i=1}^{n} \\mathcal{P}\\left( x_{i}; \\lambda \\right) = \\prod_{i=1}^{n} \\frac{\\lambda^{x_{i}}}{x_{i}!} \\mathcal{e}^{-\\lambda}\n",
    "$$\n",
    "\n",
    "\n",
    "**Hint:** You will have a much easier time if you first take the logarithm of the density function."
   ]
  },
  {
   "cell_type": "markdown",
   "metadata": {},
   "source": [
    "<h3 style=\"color:rgb(210,90,80)\">Calculation (25 points):</h3>\n",
    "\n",
    "Your calculation here."
   ]
  },
  {
   "cell_type": "markdown",
   "metadata": {},
   "source": [
    "Now we take its log and rewrite is as below\n",
    "\n",
    "$$ ln\\bigg[\\prod_{i=1}^{n} \\mathcal{P}\\left( x_{i}; \\lambda \\right) \\bigg] = ln\\bigg[\\sum_{i=1}^{n} \\frac{\\lambda^{x_{i}}}{x_{i}!} \\mathcal{e}^{-\\lambda} \\bigg] $$\n",
    "\n",
    "$$ ln\\bigg[\\prod_{i=1}^{n} \\mathcal{P}\\left( x_{i}; \\lambda \\right) \\bigg] =  \\sum_{i=1}^{n} \\big[ln(e^{-\\lambda}) - ln(x_i!)+ ln(\\lambda^{x_i}) \\big]$$\n",
    "\n",
    "$$ ln\\bigg[\\prod_{i=1}^{n} \\mathcal{P}\\left( x_{i}; \\lambda \\right) \\bigg] =  \\sum_{i=1}^{n} \\big[-\\lambda - ln(x_i!)+ x_iln(\\lambda) \\big] $$\n",
    "\n",
    "$$ ln\\bigg[\\prod_{i=1}^{n} \\mathcal{P}\\left( x_{i}; \\lambda \\right) \\bigg] = -n\\lambda - \\sum_{i=1}^{n} ln(x_i!) +ln(\\lambda) \\sum_{i=1}^{n}x_i $$\n",
    "\n",
    "And taking a partial differentiate w.r.t to $\\lambda $ it and then set the differentiated equation to zero\n",
    "\n",
    "$$\\frac{\\partial}{\\partial \\lambda}( -n\\lambda - \\sum_{i=1}^{n} ln(x_i!) +ln(\\lambda) \\sum_{i=1}^{n}x_i) =0 $$\n",
    "\n",
    "$$ -n + \\frac{1}{\\lambda} \\sum_{i=1}^{n}x_i =0 $$\n",
    "\n",
    "$$ \\lambda = \\frac{1}{n}\\sum_{i=1}^{n}x_i $$"
   ]
  },
  {
   "cell_type": "markdown",
   "metadata": {},
   "source": [
    "<h2 style=\"color:rgb(0,120,170)\">Task 2: Implementation of previous task</h2>\n",
    "\n",
    "Plot the log-likelihood from the previous task as a function of $\\lambda$ and mark the\n",
    "position where the maximum occurs. Use the data stored in poisson.csv for this task. As\n",
    "possible values for $\\lambda$ we suggest values from $1$ to $50$ with a step size of $0.5$, i.e. $(0, 0.5, 1.0, ...).$ "
   ]
  },
  {
   "cell_type": "code",
   "execution_count": 1,
   "metadata": {},
   "outputs": [
    {
     "data": {
      "text/html": [
       "<div>\n",
       "<style scoped>\n",
       "    .dataframe tbody tr th:only-of-type {\n",
       "        vertical-align: middle;\n",
       "    }\n",
       "\n",
       "    .dataframe tbody tr th {\n",
       "        vertical-align: top;\n",
       "    }\n",
       "\n",
       "    .dataframe thead th {\n",
       "        text-align: right;\n",
       "    }\n",
       "</style>\n",
       "<table border=\"1\" class=\"dataframe\">\n",
       "  <thead>\n",
       "    <tr style=\"text-align: right;\">\n",
       "      <th></th>\n",
       "      <th>0</th>\n",
       "    </tr>\n",
       "  </thead>\n",
       "  <tbody>\n",
       "    <tr>\n",
       "      <th>0</th>\n",
       "      <td>11</td>\n",
       "    </tr>\n",
       "    <tr>\n",
       "      <th>1</th>\n",
       "      <td>10</td>\n",
       "    </tr>\n",
       "    <tr>\n",
       "      <th>2</th>\n",
       "      <td>11</td>\n",
       "    </tr>\n",
       "    <tr>\n",
       "      <th>3</th>\n",
       "      <td>9</td>\n",
       "    </tr>\n",
       "    <tr>\n",
       "      <th>4</th>\n",
       "      <td>12</td>\n",
       "    </tr>\n",
       "  </tbody>\n",
       "</table>\n",
       "</div>"
      ],
      "text/plain": [
       "    0\n",
       "0  11\n",
       "1  10\n",
       "2  11\n",
       "3   9\n",
       "4  12"
      ]
     },
     "execution_count": 1,
     "metadata": {},
     "output_type": "execute_result"
    }
   ],
   "source": [
    "import pandas as pd\n",
    "import matplotlib.pyplot as plt\n",
    "import numpy as np\n",
    "data_df = pd.read_csv('poisson.csv',header=None)\n",
    "\n",
    "# print the head of the dataset, good practice\n",
    "data_df.head()"
   ]
  },
  {
   "cell_type": "code",
   "execution_count": 2,
   "metadata": {},
   "outputs": [
    {
     "name": "stdout",
     "output_type": "stream",
     "text": [
      "<class 'pandas.core.frame.DataFrame'>\n",
      "<class 'numpy.ndarray'>\n"
     ]
    }
   ],
   "source": [
    "X = data_df.values\n",
    "\n",
    "print(type(data_df))\n",
    "print(type(X))"
   ]
  },
  {
   "cell_type": "code",
   "execution_count": 3,
   "metadata": {},
   "outputs": [
    {
     "data": {
      "image/png": "[encoded data removed]",
      "text/plain": [
       "<Figure size 576x216 with 1 Axes>"
      ]
     },
     "metadata": {
      "needs_background": "light"
     },
     "output_type": "display_data"
    }
   ],
   "source": [
    "plt.figure(figsize=(8,3))\n",
    "f = plt.hist(data_df.T,density=len(data_df))\n",
    "plt.xlabel('x')\n",
    "plt.ylabel('p(x)')\n",
    "plt.title('Histogram of the poisson.csv');\n",
    "plt.show()"
   ]
  },
  {
   "cell_type": "markdown",
   "metadata": {},
   "source": [
    "**Log Likelihood:**"
   ]
  },
  {
   "cell_type": "code",
   "execution_count": 4,
   "metadata": {},
   "outputs": [],
   "source": [
    "import math\n",
    "\n",
    "def loglikelihood(x, lam):\n",
    "    if lam==0:\n",
    "        return -1\n",
    "    l=0 \n",
    "    for xi in x:\n",
    "        l+=xi*np.log(lam)-np.log(math.factorial(xi))-lam\n",
    "    return l"
   ]
  },
  {
   "cell_type": "code",
   "execution_count": 5,
   "metadata": {},
   "outputs": [
    {
     "name": "stdout",
     "output_type": "stream",
     "text": [
      "Log-likelihood [-17657.3751]\n",
      "Log-likelihood [-3709.1729]\n",
      "Log-likelihood [-2243.6278]\n",
      "Log-likelihood [-21735.951]\n"
     ]
    }
   ],
   "source": [
    "#test the function\n",
    "lam_set = np.linspace(1,50,100)\n",
    "\n",
    "np.set_printoptions(precision=4)\n",
    "print(\"Log-likelihood {}\".format(loglikelihood(X,lam_set[0])))\n",
    "print(\"Log-likelihood {}\".format(loglikelihood(X,lam_set[10])))\n",
    "print(\"Log-likelihood {}\".format(loglikelihood(X,lam_set[20])))\n",
    "print(\"Log-likelihood {}\".format(loglikelihood(X,lam_set[90])))"
   ]
  },
  {
   "cell_type": "markdown",
   "metadata": {},
   "source": [
    "<h3 style=\"color:rgb(0,120,170)\">Task:</h3>\n",
    "\n",
    "* Implement the estimator_formula function"
   ]
  },
  {
   "cell_type": "markdown",
   "metadata": {},
   "source": [
    "<h3 style=\"color:rgb(210,90,80)\">Code (5 points):</h3>"
   ]
  },
  {
   "cell_type": "code",
   "execution_count": 6,
   "metadata": {},
   "outputs": [],
   "source": [
    "def estimator_formula(X):\n",
    "    \"\"\" the estimator returns lambda-hat according to the result of the calculation in task 1\"\"\"\n",
    "    \n",
    "##############################\n",
    "# Begin your code\n",
    "    count = 0\n",
    "    total = 0\n",
    "    for i in X:\n",
    "        total += i\n",
    "        count +=1\n",
    "    lam_max_formula = total/count\n",
    "    \n",
    "# End your code\n",
    "##############################\n",
    "    \n",
    "    return lam_max_formula"
   ]
  },
  {
   "cell_type": "code",
   "execution_count": 7,
   "metadata": {},
   "outputs": [
    {
     "name": "stdout",
     "output_type": "stream",
     "text": [
      "Likelihood is maximal at lambda-hat (formula) = [10.597]\n",
      "Log-Likelihood at lambda-hat = [-2239.4049]\n"
     ]
    }
   ],
   "source": [
    "lam_max_formula = estimator_formula(X)\n",
    "print('Likelihood is maximal at lambda-hat (formula) =',lam_max_formula)\n",
    "print('Log-Likelihood at lambda-hat =',loglikelihood(X,lam_max_formula))"
   ]
  },
  {
   "cell_type": "markdown",
   "metadata": {},
   "source": [
    "<h3 style=\"color:rgb(0,120,170)\">Task:</h3>\n",
    "\n",
    "* Implement the estimator_argmax function"
   ]
  },
  {
   "cell_type": "markdown",
   "metadata": {},
   "source": [
    "<h3 style=\"color:rgb(210,90,80)\">Code (5 points):</h3>"
   ]
  },
  {
   "cell_type": "code",
   "execution_count": 8,
   "metadata": {},
   "outputs": [],
   "source": [
    "def estimator_argmax(X, lam_set):\n",
    "    loglikelih = [loglikelihood(X,lami) for lami in lam_set]\n",
    "\n",
    "##############################\n",
    "# Begin your code\n",
    "    \n",
    "    lam_list = [estimator_formula(x) for x in X]\n",
    "    lam_max = np.max(lam_list)\n",
    "    \n",
    "\n",
    "# End your code\n",
    "##############################\n",
    "\n",
    "    ln_min = np.min(loglikelih)\n",
    "    ln_max = np.max(loglikelih)\n",
    "    \n",
    "    return loglikelih, ln_min, ln_max, lam_max"
   ]
  },
  {
   "cell_type": "code",
   "execution_count": 9,
   "metadata": {},
   "outputs": [
    {
     "name": "stdout",
     "output_type": "stream",
     "text": [
      "Likelihood is maximal at lambda (argmax) = 17.0\n"
     ]
    }
   ],
   "source": [
    "lam_set = np.arange(1,50,0.5) # start, end, stepsize\n",
    "loglikelih, ln_min, ln_max, lam_max = estimator_argmax(X, lam_set)\n",
    "print('Likelihood is maximal at lambda (argmax) =',lam_max)"
   ]
  },
  {
   "cell_type": "markdown",
   "metadata": {},
   "source": [
    "<h3 style=\"color:rgb(0,120,170)\">Task:</h3>\n",
    "\n",
    "* Implement the loglikelih function over lam_set\n",
    "* mark the maximum in the plot (estimator_formula, estimator_argmax)"
   ]
  },
  {
   "cell_type": "markdown",
   "metadata": {},
   "source": [
    "<h3 style=\"color:rgb(210,90,80)\">Code (10 points):</h3>"
   ]
  },
  {
   "cell_type": "code",
   "execution_count": 10,
   "metadata": {},
   "outputs": [],
   "source": [
    "##############################\n",
    "# Begin your code\n",
    "def loglikeli_lam_set (X,lam_set):\n",
    "    lam_list = []\n",
    "    \n",
    "    for element in lam_set:\n",
    "        temp_lam = loglikelihood(X,element)\n",
    "        lam_list.append(temp_lam)\n",
    "    \n",
    "    return lam_list\n",
    "\n",
    "# End your code\n",
    "##############################"
   ]
  },
  {
   "cell_type": "code",
   "execution_count": 11,
   "metadata": {},
   "outputs": [],
   "source": [
    "loglikeli_set = loglikeli_lam_set(X,lam_set)"
   ]
  },
  {
   "cell_type": "code",
   "execution_count": 12,
   "metadata": {},
   "outputs": [],
   "source": [
    "loglikeli_set_np = np.array(loglikeli_set)"
   ]
  },
  {
   "cell_type": "code",
   "execution_count": 13,
   "metadata": {},
   "outputs": [],
   "source": [
    "lam_set_np = np.array(lam_set)"
   ]
  },
  {
   "cell_type": "code",
   "execution_count": 14,
   "metadata": {},
   "outputs": [
    {
     "data": {
      "image/png": "[encoded data removed]",
      "text/plain": [
       "<Figure size 432x288 with 1 Axes>"
      ]
     },
     "metadata": {
      "needs_background": "light"
     },
     "output_type": "display_data"
    }
   ],
   "source": [
    "fig, ax = plt.subplots()\n",
    "ax.plot(lam_set_np,loglikeli_set_np, 'o')\n",
    "\n",
    "def annot_max(x,y, ax=None):\n",
    "    xmax = x[np.argmax(y)]\n",
    "    ymax = y.max()\n",
    "    text= \"x={:.3f}, y={:.3f}\".format(xmax, ymax)\n",
    "    if not ax:\n",
    "        ax=plt.gca()\n",
    "    bbox_props = dict(boxstyle=\"square,pad=0.3\", fc=\"w\", ec=\"k\", lw=0.72)\n",
    "    arrowprops=dict(arrowstyle=\"->\",connectionstyle=\"angle,angleA=0,angleB=60\")\n",
    "    kw = dict(xycoords='data',textcoords=\"axes fraction\",\n",
    "              arrowprops=arrowprops, bbox=bbox_props, ha=\"right\", va=\"top\")\n",
    "    ax.annotate(text, xy=(xmax, ymax), xytext=(0.94,0.96), **kw)\n",
    "\n",
    "annot_max(lam_set_np,loglikeli_set_np)\n",
    "plt.xlabel(\"values of lambda\")\n",
    "plt.ylabel(\"loglikelihood\")\n",
    "plt.show()"
   ]
  },
  {
   "cell_type": "markdown",
   "metadata": {},
   "source": [
    "<h3 style=\"color:rgb(0,120,170)\">Task:</h3>\n",
    "\n",
    "* Explain and discuss the result in your own words. Where is the maximum?"
   ]
  },
  {
   "cell_type": "markdown",
   "metadata": {},
   "source": [
    "<h3 style=\"color:rgb(208,90,80)\">Question (5 points)</h3>\n",
    "\n",
    "According to the plot of this experiment, the maximum value of loglikelihood has -2239.852 at 10.500 for the value of lambda. As Poisson Distribution, it means that the number of occurrences between 10 and 11 is the most expected frequent number in the dataset."
   ]
  },
  {
   "cell_type": "code",
   "execution_count": null,
   "metadata": {},
   "outputs": [],
   "source": []
  },
  {
   "cell_type": "code",
   "execution_count": null,
   "metadata": {},
   "outputs": [],
   "source": []
  }
 ],
 "metadata": {
  "kernelspec": {
   "display_name": "Python 3",
   "language": "python",
   "name": "python3"
  },
  "language_info": {
   "codemirror_mode": {
    "name": "ipython",
    "version": 3
   },
   "file_extension": ".py",
   "mimetype": "text/x-python",
   "name": "python",
   "nbconvert_exporter": "python",
   "pygments_lexer": "ipython3",
   "version": "3.7.6"
  }
 },
 "nbformat": 4,
 "nbformat_minor": 2
}
