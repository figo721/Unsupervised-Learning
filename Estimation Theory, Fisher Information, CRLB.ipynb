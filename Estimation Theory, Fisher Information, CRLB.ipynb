{
 "cells": [
  {
   "cell_type": "markdown",
   "metadata": {
    "colab_type": "text",
    "id": "20utfFqbWHs5"
   },
   "source": [
    "<h1 style=\"color:rgb(0,120,170)\">Estimation Theory, Fisher Information, CRLB</h1>"
   ]
  },
  {
   "cell_type": "markdown",
   "metadata": {
    "colab_type": "text",
    "id": "CY3KK466WHs9"
   },
   "source": [
    "This material, no matter whether in printed or electronic form, may be used for personal and non-commercial educational use only. Any reproduction of this material, no matter whether as a whole or in parts, no matter whether in printed or in electronic form, requires explicit prior acceptance of the authors."
   ]
  },
  {
   "cell_type": "markdown",
   "metadata": {
    "colab_type": "text",
    "id": "NR1VhTtQWHs-"
   },
   "source": [
    "Let us start with some preliminary facts and intuition on why it is often a good idea to use the logarithm in optimization tasks, like parameter estimation:\n",
    "\n",
    "* log is strictly monotonically increasing, so log likelihood is a strictly monotonically increasing transformation of likelihood and maxima occur at same parameter values\n",
    "    * $p(x;\\theta_1) > p(x;\\theta_2) \\Leftrightarrow \\ln p(x;\\theta_1) > \\ln p(x;\\theta_2)$\n",
    "    * ${arg\\,max}_\\theta\\ p(x;\\theta) = {arg\\,max}_\\theta \\ln p(x;\\theta)$    \n",
    "* products become sums\n",
    "    * $L = p_1 p_2 p_3$\n",
    "    * $\\ln(L) = \\ln(p_1) + \\ln(p_2) + \\ln(p_3)$\n",
    "* derivatives are easier\n",
    "    * $\\frac{\\partial L}{\\partial \\theta} = \n",
    "    \\frac{\\partial p_1}{\\partial \\theta} p_2 p_3 +\n",
    "    p_1 \\frac{\\partial p_2}{\\partial \\theta} p_3 +\n",
    "    p_1 p_2 \\frac{\\partial p_3}{\\partial \\theta}\n",
    "    $\n",
    "    * $\\frac{\\partial \\ln(L)}{\\partial \\theta} = \n",
    "    \\frac{\\partial \\ln(p_1)}{\\partial \\theta} +\n",
    "    \\frac{\\partial \\ln(p_2)}{\\partial \\theta} + \n",
    "    \\frac{\\partial \\ln(p_3)}{\\partial \\theta}$\n",
    "* likelihoods become very small and consequently they run out of floating point precision very quickly\n",
    "    * log likelihoods are numerically more stable\n",
    "* for some distributions the log space avoids expansive computation\n",
    "    * exp in gaussian pdf:\n",
    "        * $p(x; \\theta) = \\frac{1}{(\\sqrt{2\\pi})^{d}\\sqrt{det \\Sigma}}\\exp^{-\\frac{1}{2}(x-\\mu)^{T}\\Sigma^{-1}(x-\\mu)}$\n",
    "    * no exp in log space:\n",
    "        * $\\ln p(x; \\theta) = -\\frac{d}{2}\\ln(2\\pi) -\\frac{1}{2}\\ln(det \\Sigma) - \\frac{1}{2}(x-\\mu)^{T}\\Sigma^{-1}(x-\\mu)$"
   ]
  },
  {
   "cell_type": "markdown",
   "metadata": {
    "colab_type": "text",
    "id": "lAGXWtWfWHtA"
   },
   "source": [
    "Let us also briefly visualize the situation with a plot of the log-likelihood vs. the actual likelihood. You should see that the logarithm is just a monotonic transform, so it doesn't change the actual optimization problem at hand."
   ]
  },
  {
   "cell_type": "code",
   "execution_count": 1,
   "metadata": {
    "colab": {},
    "colab_type": "code",
    "id": "icI26tcHWHtB"
   },
   "outputs": [],
   "source": [
    "import numpy as np\n",
    "import matplotlib.pyplot as plt"
   ]
  },
  {
   "cell_type": "code",
   "execution_count": 2,
   "metadata": {
    "colab": {
     "base_uri": "https://localhost:8080/",
     "height": 473
    },
    "colab_type": "code",
    "id": "RFuA8fFBWHtI",
    "outputId": "31df1f36-668a-41bd-f5c4-f18f721cf105"
   },
   "outputs": [
    {
     "data": {
      "image/png": "[encoded data removed]",
      "text/plain": [
       "<Figure size 1152x1152 with 1 Axes>"
      ]
     },
     "metadata": {
      "needs_background": "light"
     },
     "output_type": "display_data"
    }
   ],
   "source": [
    "# plot of likelihood vs. log-likelihood\n",
    "\n",
    "L = np.linspace(0.001,5,1000)\n",
    "L_ln = np.log(L)\n",
    "L_log2 = np.log2(L)\n",
    "L_log10 = np.log10(L)\n",
    "\n",
    "fig = plt.figure(figsize=(16,16))\n",
    "plt.subplot(2,1,1)\n",
    "plt.plot(L, L_ln, label='ln(L)')\n",
    "plt.xlabel('Likelihood L')\n",
    "plt.ylabel('log-Likelihood ln(L)')\n",
    "plt.grid()\n",
    "plt.legend()\n",
    "plt.title(\"Monotonically increasing transformation of likelihood\");"
   ]
  },
  {
   "cell_type": "markdown",
   "metadata": {
    "colab_type": "text",
    "id": "pmK5nDRlWHtM"
   },
   "source": [
    "<h2 style=\"color:rgb(0,120,170)\">Task 1: On the Fisher Information of Gaussians</h2>\n",
    "\n",
    "Consider a sequence of independent and identically distributed (i.i.d.) random variables $x_{1}, x_{2},...,x_{n}$ that are sampled from a normal distribution with an unknown expectation parameter $\\mu$ and a known standard deviation parameter $\\sigma$, i.e.\n",
    "$x_{i}$ are distributed according to the density function\n",
    "\n",
    "$$\n",
    "p(x;\\mu,\\sigma) = \\frac{1}{\\sqrt{2\\pi\\sigma^{2}}}\\, \\text{exp}^{-\\frac{(x-\\mu)^{2}}{2\\sigma^{2}}}\n",
    "$$\n",
    "\n",
    "Let us start this task by creating 3 normally distributed datasets with same $\\mu = 5$ but different $\\sigma = 1,2,4$.\n",
    "We also want to visualize their histograms and compare with the actual densities. The procedure should be clearly visible from the code below."
   ]
  },
  {
   "cell_type": "code",
   "execution_count": 3,
   "metadata": {
    "colab": {},
    "colab_type": "code",
    "id": "87-585NaWHtN"
   },
   "outputs": [],
   "source": [
    "def gauss_function(x, mu, sigma):\n",
    "    \"\"\" This is the 1D gaussian probability density function with mean mu and standard deviation sigma \"\"\"\n",
    "    \n",
    "    return 1/(sigma*np.sqrt(2*np.pi))*np.exp(-(x-mu)**2/(2*sigma**2))"
   ]
  },
  {
   "cell_type": "code",
   "execution_count": 4,
   "metadata": {
    "colab": {},
    "colab_type": "code",
    "id": "I-b8hhNTWHtR"
   },
   "outputs": [],
   "source": [
    "def generate_data(mu, sigma, samples):\n",
    "    \"\"\" This funtion generates the data \"\"\"\n",
    "    \n",
    "    x = np.linspace(-5,15,samples)\n",
    "    \n",
    "    # get density over x\n",
    "    density = gauss_function(x, mu, sigma)\n",
    "    \n",
    "    # sample for the gaussian distribution\n",
    "    X_samples = sigma*np.random.randn(n) + mu\n",
    "    \n",
    "    return x, density, X_samples"
   ]
  },
  {
   "cell_type": "code",
   "execution_count": 5,
   "metadata": {
    "colab": {},
    "colab_type": "code",
    "id": "dc5D7RnsWHtY"
   },
   "outputs": [],
   "source": [
    "# here we generate 3 datasets with same mu = 5 but different sigmas = 1,2,4\n",
    "\n",
    "n = 100\n",
    "mu = 5.0\n",
    "\n",
    "sigma_1 = 1.0\n",
    "x, p1, X1 = generate_data(mu, sigma_1, samples=n)\n",
    "\n",
    "sigma_2 = 2.0\n",
    "_, p2, X2 = generate_data(mu, sigma_2, samples=n)\n",
    "\n",
    "sigma_3 = 4.0\n",
    "_, p3, X3 = generate_data(mu, sigma_3, samples=n)"
   ]
  },
  {
   "cell_type": "code",
   "execution_count": 6,
   "metadata": {
    "colab": {
     "base_uri": "https://localhost:8080/",
     "height": 621
    },
    "colab_type": "code",
    "id": "aiUhNDoEWHtc",
    "outputId": "26f3d74c-eab7-464d-8328-6b71ed28b427"
   },
   "outputs": [
    {
     "data": {
      "image/png": "[encoded data removed]",
      "text/plain": [
       "<Figure size 1440x720 with 2 Axes>"
      ]
     },
     "metadata": {
      "needs_background": "light"
     },
     "output_type": "display_data"
    }
   ],
   "source": [
    "# this code is only for plotting\n",
    "\n",
    "fig = plt.figure(figsize=(20,10))\n",
    "plt.subplot(1,2,1)\n",
    "plt.plot(x, p1, label='p1', color='r')\n",
    "plt.plot(X1, np.repeat(-0.1, len(x)), 'ro', label='X1 samples')\n",
    "plt.plot(x, p2, label='p2', color='g')\n",
    "plt.plot(X2, np.repeat(-0.2, len(x)), 'go', label='X2 samples')\n",
    "plt.plot(x, p3, label='p3', color='b')\n",
    "plt.plot(X3, np.repeat(-0.3, len(x)), 'bo', label='X3 samples')\n",
    "plt.axis([-5, 15, -0.4, 1.0])\n",
    "plt.grid()\n",
    "plt.title('Gauss density functions and samples')\n",
    "plt.xlabel('x')\n",
    "plt.ylabel('Probability')\n",
    "plt.legend()\n",
    "\n",
    "# the histogram of the data\n",
    "\n",
    "plt.subplot(1,2,2)\n",
    "n, bins, patches = plt.hist(X1, density=True, facecolor='r', alpha=0.75, label='X1 samples')\n",
    "plt.plot(x, p1, label='p1', color='r')\n",
    "n, bins, patches = plt.hist(X2, density=True, facecolor='g', alpha=0.75, label='X2 samples')\n",
    "plt.plot(x, p2, label='p2', color='g')\n",
    "n, bins, patches = plt.hist(X3, density=True, facecolor='b', alpha=0.75, label='X3 samples')\n",
    "plt.plot(x, p3, label='p3', color='b')\n",
    "plt.legend()\n",
    "\n",
    "plt.xlabel('x')\n",
    "plt.ylabel('Probability')\n",
    "plt.title('Histogram of samples')\n",
    "plt.text(-3.6, 0.9, r'$\\mu=5,\\ \\sigma=1,2,4$')\n",
    "plt.axis([-5, 15, -0.4, 1.0])\n",
    "plt.grid(True)\n",
    "plt.show()"
   ]
  },
  {
   "cell_type": "markdown",
   "metadata": {
    "colab_type": "text",
    "id": "H3EqLxt2WHtg"
   },
   "source": [
    "Next we want to work with the likelihood and log-likelihood of the previously created data. To this end, recall the following definitions:\n",
    "\n",
    "**Likelihood:**\n",
    "$$\\mathcal{L}(w) = \\prod_{i=1}^n p(x_i ; w)$$\n",
    "\n",
    "**Log-Likelihood:**\n",
    "$$\\ln\\mathcal{L}(w) = \\sum_{i=1}^n \\ln p(x_i ; w)$$\n",
    "\n",
    "<h3 style=\"color:rgb(0,120,170)\">Task:</h3>\n",
    "\n",
    "* As a first task, implement the log-likelihood function for a given dataset, a given $\\mu$ and a given $\\sigma$, using the previously implemented functions. Test your function by executing the print commands below."
   ]
  },
  {
   "cell_type": "markdown",
   "metadata": {
    "colab_type": "text",
    "id": "LXO8JtzJWHtj"
   },
   "source": [
    "<h3 style=\"color:rgb(208,90,80)\">Code (10 points)</h3>"
   ]
  },
  {
   "cell_type": "code",
   "execution_count": 7,
   "metadata": {
    "colab": {},
    "colab_type": "code",
    "id": "Y7vQ2EdQWHtl"
   },
   "outputs": [],
   "source": [
    "# Calculate the log-likehood function; it should return a scalar value\n",
    "\n",
    "def log_likelihood(data, mu, sigma):\n",
    "    \"\"\" Calculates the log likelihood\"\"\"\n",
    "    \n",
    "    ######################################################################\n",
    "    # Begin To Do: Implement the log_likelihood\n",
    "    \n",
    "    gauss_vals = gauss_function(data, mu, sigma)\n",
    "    \n",
    "    lnl_pdf_vals = np.log(gauss_vals)\n",
    "    lnL = lnl_pdf_vals.sum()\n",
    "\n",
    "    # End To Do\n",
    "    ######################################################################\n",
    "        \n",
    "    return lnL"
   ]
  },
  {
   "cell_type": "code",
   "execution_count": 8,
   "metadata": {
    "colab": {
     "base_uri": "https://localhost:8080/",
     "height": 238
    },
    "colab_type": "code",
    "id": "GOGpr-KTWHtp",
    "outputId": "c5da49bb-0a59-464b-d8d2-2c9c4e3bbe5d"
   },
   "outputs": [
    {
     "name": "stdout",
     "output_type": "stream",
     "text": [
      "ln L(X1,mu=5,sigma1) =  -140.67\n",
      "ln L(X1,mu=5,sigma2) =  -173.40\n",
      "ln L(X1,mu=5,sigma3) =  -233.57\n",
      "\n",
      "\n",
      "ln L(X2,mu=5,sigma1) =  -280.20\n",
      "ln L(X2,mu=5,sigma2) =  -208.29\n",
      "ln L(X2,mu=5,sigma3) =  -242.29\n",
      "\n",
      "\n",
      "ln L(X3,mu=5,sigma1) =  -800.46\n",
      "ln L(X3,mu=5,sigma2) =  -338.35\n",
      "ln L(X3,mu=5,sigma3) =  -274.81\n"
     ]
    }
   ],
   "source": [
    "print(\"ln L(X1,mu=5,sigma1) = %8.2f\" % log_likelihood(X1, mu=5, sigma=sigma_1))\n",
    "print(\"ln L(X1,mu=5,sigma2) = %8.2f\" % log_likelihood(X1, mu=5, sigma=sigma_2))\n",
    "print(\"ln L(X1,mu=5,sigma3) = %8.2f\" % log_likelihood(X1, mu=5, sigma=sigma_3))\n",
    "print(\"\\n\")\n",
    "print(\"ln L(X2,mu=5,sigma1) = %8.2f\" % log_likelihood(X2, mu=5, sigma=sigma_1))\n",
    "print(\"ln L(X2,mu=5,sigma2) = %8.2f\" % log_likelihood(X2, mu=5, sigma=sigma_2))\n",
    "print(\"ln L(X2,mu=5,sigma3) = %8.2f\" % log_likelihood(X2, mu=5, sigma=sigma_3))\n",
    "print(\"\\n\")\n",
    "print(\"ln L(X3,mu=5,sigma1) = %8.2f\" % log_likelihood(X3, mu=5, sigma=sigma_1))\n",
    "print(\"ln L(X3,mu=5,sigma2) = %8.2f\" % log_likelihood(X3, mu=5, sigma=sigma_2))\n",
    "print(\"ln L(X3,mu=5,sigma3) = %8.2f\" % log_likelihood(X3, mu=5, sigma=sigma_3))"
   ]
  },
  {
   "cell_type": "markdown",
   "metadata": {
    "colab_type": "text",
    "id": "kc-offfAWHtv"
   },
   "source": [
    "Now let us gain some intuition on how the log-likelihood function behaves, if data and $\\sigma$ are given, but $\\mu$ varies in the set $[-5,15]$. \n",
    "* Your task is to complete the implementation of the function calculate_log_likelihood_over_mu so that it outputs the list mu_set (which has already been created) and an array lnl_array, containing the resulting log-likelihoods. Afterward, execute the plotting routine to the different values of $\\sigma$."
   ]
  },
  {
   "cell_type": "markdown",
   "metadata": {
    "colab_type": "text",
    "id": "GP6EVF1HWHtw"
   },
   "source": [
    "<h3 style=\"color:rgb(208,90,80)\">Code (20 points)</h3>"
   ]
  },
  {
   "cell_type": "code",
   "execution_count": 9,
   "metadata": {
    "colab": {},
    "colab_type": "code",
    "id": "BMIaOE1gWHty"
   },
   "outputs": [],
   "source": [
    "def calculate_log_likelihood_over_mu(data, sigma):\n",
    "    \n",
    "    mu_set = np.linspace(-5,15,501)\n",
    "    lnL_list = []\n",
    "\n",
    "    ######################################################################\n",
    "    # Begin To Do\n",
    "    \n",
    "    mu_set_list = list(mu_set)\n",
    "    \n",
    "    for i in mu_set_list:\n",
    "        \n",
    "        new_lnl_val = log_likelihood(data, i, sigma)\n",
    "        \n",
    "        lnL_list.append(new_lnl_val)\n",
    "\n",
    "    \n",
    "\n",
    "    # End To Do\n",
    "    ######################################################################\n",
    "    \n",
    "    lnL_array = np.array(lnL_list)\n",
    "    return mu_set, lnL_array"
   ]
  },
  {
   "cell_type": "code",
   "execution_count": 10,
   "metadata": {
    "colab": {},
    "colab_type": "code",
    "id": "ur25suh8WHt1"
   },
   "outputs": [],
   "source": [
    "mu_set, lnL_array1 = calculate_log_likelihood_over_mu(X1, sigma_1)\n",
    "_, lnL_array2 = calculate_log_likelihood_over_mu(X2, sigma_2)\n",
    "_, lnL_array3 = calculate_log_likelihood_over_mu(X3, sigma_3)"
   ]
  },
  {
   "cell_type": "code",
   "execution_count": 11,
   "metadata": {
    "colab": {
     "base_uri": "https://localhost:8080/",
     "height": 68
    },
    "colab_type": "code",
    "id": "xOTAO-liWHt7",
    "outputId": "3be4c739-609b-473f-e035-845c7fb275bf"
   },
   "outputs": [
    {
     "name": "stdout",
     "output_type": "stream",
     "text": [
      "argmax_mu(lnL(X1,mu,sigma1)): 4.88\n",
      "argmax_mu(lnL(X2,mu,sigma1)): 5.04\n",
      "argmax_mu(lnL(X3,mu,sigma1)): 4.64\n"
     ]
    }
   ],
   "source": [
    "print(\"argmax_mu(lnL(X1,mu,sigma1)): %4.2f\" % mu_set[np.argmax(lnL_array1)])\n",
    "print(\"argmax_mu(lnL(X2,mu,sigma1)): %4.2f\" % mu_set[np.argmax(lnL_array2)])\n",
    "print(\"argmax_mu(lnL(X3,mu,sigma1)): %4.2f\" % mu_set[np.argmax(lnL_array3)])"
   ]
  },
  {
   "cell_type": "code",
   "execution_count": 12,
   "metadata": {
    "colab": {
     "base_uri": "https://localhost:8080/",
     "height": 299
    },
    "colab_type": "code",
    "id": "uPgYHPiBWHt-",
    "outputId": "4d2e5d3e-1941-436a-c0d5-21fa886e29ab"
   },
   "outputs": [
    {
     "data": {
      "image/png": "[encoded data removed]",
      "text/plain": [
       "<Figure size 432x288 with 1 Axes>"
      ]
     },
     "metadata": {
      "needs_background": "light"
     },
     "output_type": "display_data"
    }
   ],
   "source": [
    "plt.plot(mu_set, lnL_array1, label='ln L1', color='r')\n",
    "plt.plot(mu_set, lnL_array2, label='ln L2', color='g')\n",
    "plt.plot(mu_set, lnL_array3, label='ln L3', color='b')\n",
    "plt.grid()\n",
    "plt.legend()\n",
    "plt.title(\"log-likelihood over $\\mu$\")\n",
    "plt.ylabel('$log-likelihood$');\n",
    "plt.xlabel('$\\mu$');"
   ]
  },
  {
   "cell_type": "markdown",
   "metadata": {
    "colab_type": "text",
    "id": "FaxfuctgWHuD"
   },
   "source": [
    "<h3 style=\"color:rgb(0,120,170)\">Task:</h3>\n",
    "\n",
    "In the previous tasks you should have gained some intuition on how the variance of an unbiased estimator for $\\mu$ behaves in certain situations (i.e. for different $\\sigma$. Now we want to confirm these observations with a rigorous calculation on the lower bound of this variance:\n",
    "\n",
    "* Determine/Calculate the Cramer-Rao lower bound for the variance of an unbiased estimator for the parameter $\\mu$ for the situation described at the beginning of task 1.\n"
   ]
  },
  {
   "cell_type": "markdown",
   "metadata": {
    "colab_type": "text",
    "id": "Rjc52wG_WHuE"
   },
   "source": [
    "<h3 style=\"color:rgb(210,90,80)\">Calculation (30 points):</h3>\n",
    "\n",
    "Your calculation here."
   ]
  },
  {
   "cell_type": "markdown",
   "metadata": {
    "colab_type": "text",
    "id": "vk7jzLrpWHuG"
   },
   "source": [
    "By taking a log on the both sides and let $ lnp(x;\\mu,\\sigma) = l(x;\\mu,\\sigma) $,\n",
    "\n",
    "$$ l(x;\\mu,\\sigma) = - \\frac{1}{\\sqrt{2\\pi\\sigma^{2}}} - \\frac{1}{2}\\ln(2\\pi) - \\frac{1}{2}\\ln(\\sigma) $$\n",
    "\n",
    "Hence, $$ \\frac{\\partial l}{\\partial \\sigma}(x;\\mu,\\sigma) = \\frac{(x-u)^2}{2\\sigma^2}-\\frac{1}{2\\sigma} $$\n",
    "\n",
    "and then, $$ \\frac{\\partial^2 l}{\\partial \\sigma^2} = - \\frac{(x-u)^2}{\\sigma^3}+\\frac{1}{2\\sigma^2}$$\n",
    "\n",
    "Therefore, we have\n",
    "\n",
    "$$ B(\\sigma) = -E[\\frac{\\partial^2 l}{\\partial \\sigma^2}] = \\frac{1}{2\\sigma^2} $$\n",
    "\n",
    "and $$ B_n(\\sigma) = nB(\\sigma) = \\frac{n}{2\\sigma^2} $$\n",
    "\n",
    "The Cramer-Rao lower bound is $ \\frac{2\\sigma^2}{n} $"
   ]
  },
  {
   "cell_type": "code",
   "execution_count": null,
   "metadata": {
    "colab": {},
    "colab_type": "code",
    "id": "u0l17TB0XDpD"
   },
   "outputs": [],
   "source": []
  },
  {
   "cell_type": "markdown",
   "metadata": {
    "colab_type": "text",
    "id": "H2kYFJ3AWHuL"
   },
   "source": [
    "<h3 style=\"color:rgb(0,120,170)\">Task:</h3>\n",
    "\n",
    "* Now you are asked to implement the result of the previous task, i.e. provide a function that outputs the Fisher information for given number $n$ of data and $\\sigma$."
   ]
  },
  {
   "cell_type": "markdown",
   "metadata": {
    "colab_type": "text",
    "id": "vkZUioIJWHuM"
   },
   "source": [
    "<h3 style=\"color:rgb(208,90,80)\">Code (5 points)</h3>"
   ]
  },
  {
   "cell_type": "code",
   "execution_count": 13,
   "metadata": {
    "colab": {},
    "colab_type": "code",
    "id": "f4ODAFLVWHuN"
   },
   "outputs": [],
   "source": [
    "def fisher_information_mu(n, sigma):\n",
    "    \"\"\" Calculate the fisher information  \"\"\"\n",
    "    \n",
    "    ######################################################################\n",
    "    # Begin To Do: Implement the result from above\n",
    "    numerator = 2*(sigma**2)\n",
    "    return n/numerator\n",
    "    # End To Do\n",
    "    ######################################################################"
   ]
  },
  {
   "cell_type": "code",
   "execution_count": 14,
   "metadata": {
    "colab": {
     "base_uri": "https://localhost:8080/",
     "height": 68
    },
    "colab_type": "code",
    "id": "Tjfdn0fkWHuT",
    "outputId": "4a1e469d-b44d-4666-fbd8-739a20a87bed"
   },
   "outputs": [
    {
     "name": "stdout",
     "output_type": "stream",
     "text": [
      "Fisher Information sigma=1: IF = 50.0\n",
      "Fisher Information sigma=2: IF = 12.5\n",
      "Fisher Information sigma=4: IF = 3.125\n"
     ]
    }
   ],
   "source": [
    "print(\"Fisher Information sigma=1: IF =\", fisher_information_mu(n=100, sigma=1))\n",
    "print(\"Fisher Information sigma=2: IF =\", fisher_information_mu(n=100, sigma=2))\n",
    "print(\"Fisher Information sigma=4: IF =\", fisher_information_mu(n=100, sigma=4))"
   ]
  },
  {
   "cell_type": "markdown",
   "metadata": {
    "colab_type": "text",
    "id": "7usuD5i-WHuW"
   },
   "source": [
    "<h3 style=\"color:rgb(208,90,80)\">Question (5 points)</h3>\n",
    "\n",
    "Finally answer some questions on your observations (1-2 sentences are enough):\n",
    "* How does the variance of the estimator of the mean $\\mu$ depend on standard deviation $\\sigma$ and sample number $n$?\n",
    "* Which values of $\\sigma$ are better for estimating $\\mu$?\n",
    "\n",
    "** Solution: **\n",
    "1. According to the equation of Fisher Information, sample number $n$ is directly proportional to the variance of the estimator mean, whereas squared $\\sigma$ is inversely proportional to the variance of the estimator.\n",
    "\n",
    "2. Based on the previous experiment, a lower $\\sigma$ provides a higher value of Fisher Information and it means better for estimating $\\mu$."
   ]
  },
  {
   "cell_type": "markdown",
   "metadata": {
    "colab_type": "text",
    "id": "um0VMjHy-2Qt"
   },
   "source": []
  },
  {
   "cell_type": "markdown",
   "metadata": {
    "colab_type": "text",
    "id": "Q07-1kU3WHuX"
   },
   "source": [
    "<h2 style=\"color:rgb(0,120,170)\">Task 2: Estimation properties of arithmetic mean</h2>\n",
    "\n",
    "In this task, we want to prove some easy properties of the arithmetic mean as an estimator for the mean of the sample given in task 1.\n",
    "\n",
    "* Consider the estimator $\\hat\\mu = \\sum_{i}^{n} \\frac{1}{n} x_{i}$ i.e. the aritmetic mean of the observations. Show that this is an unbiased estimator for the parameter $\\mu$."
   ]
  },
  {
   "cell_type": "markdown",
   "metadata": {
    "colab_type": "text",
    "id": "nW1DbOnNWHua"
   },
   "source": [
    "<h3 style=\"color:rgb(210,90,80)\">Calculation (15 points):</h3>\n",
    "\n",
    "** Solution: **\n",
    "\n",
    "Suppose that the samples are i.i.d and then its variance can be written as \n",
    "\n",
    "$$ var(\\hat \\mu) = var(\\sum \\frac{1}{n} x_i) = \\frac{1}{n^2} \\sum var(\\hat \\mu) = \\frac{n}{n^2}\\sigma^2 = \\frac{\\sigma^2}{n} $$\n",
    "\n",
    "\\\n",
    "when the number of samples has sufficiently large, the variance goes to zero.  \n",
    "\n",
    "If the sample variance of the estimator is not unbiased, it can be defined as\n",
    "\n",
    "$$ var(x) = S^2 = \\frac{\\sum (x_i - \\hat\\mu)}{n-1} $$\n",
    "\n",
    "and the variance of the estimator can be written as \n",
    "\n",
    "$$ var(x) = S^2 = \\sigma^2 +bias $$\n",
    "\n",
    "and we can define the estimator is an unbiased estimator if its value of bias has zero. \n",
    "\n",
    "\\\n",
    "We want to compute the expectation of the value\n",
    "\\\n",
    "$$ E[S^2] = E\\bigg[\\frac{\\sum (x_i - \\hat\\mu)}{n-1}\\bigg]$$\n",
    "\n",
    "$$ E[S^2] = \\frac{1}{n-1}E\\bigg[\\sum^n_{i=1}(x_i - \\hat\\mu)\\bigg] $$\n",
    "\\\n",
    "Then, we rewrite the previous equation, \n",
    "\n",
    "$$ (n-1)E[S^2] = E\\bigg[\\sum^n_{i=1}x_i^2-2x_i\\mu+ \\mu^2 \\bigg]  $$\n",
    "\n",
    "$$ (n-1)E[S^2] = E\\big[\\sum x_i^2\\big] - E[\\sum 2x_i\\mu\\big] +E\\big[\\sum\\mu^2]  $$\n",
    "\n",
    "$$ (n-1)E[S^2] = E\\big[\\sum x_i^2\\big] - E[2\\mu (n\\hat \\mu)] +E\\big[\\sum\\mu^2]  $$\n",
    "\n",
    "$$ (n-1)E[S^2] = E\\big[\\sum x_i^2\\big] - nE\\big[\\hat \\mu^2 \\big]$$\n",
    "\n",
    "$$ (n-1)E[S^2] = nE\\big[x_i^2\\big] - nE\\big[\\hat \\mu^2 \\big]$$\n",
    "\n",
    "\n",
    "$$ \\frac{(n-1)}{n}E[S^2] = E\\big[x_i^2\\big] - E\\big[\\hat \\mu^2 \\big] \\tag{1} $$ \n",
    "\n",
    "\n",
    "\\\n",
    "Now, we take into the last term of the previous equeation,\n",
    "\\\n",
    "$$ E[\\hat \\mu^2] = var\\big[\\frac{1}{n}\\sum x_i \\big] + \\mu^2 $$\n",
    "\n",
    "$$ E[\\hat \\mu^2] = \\frac{1}{n^2}\\sum \\sigma^2 + \\mu^2 $$\n",
    "\n",
    "$$ E[\\hat \\mu^2] = \\frac{1}{n^2} (n\\sigma^2) + \\mu^2 $$\n",
    "\n",
    "\n",
    "$$ E[\\hat \\mu^2] = \\frac{1}{n} \\sigma^2 + \\mu^2 $$\n",
    "\n",
    "\n",
    "Let go back to the (1) equation and apply it, \n",
    "\n",
    "$$ \\frac{(n-1)}{n}E[S^2] = [\\sigma^2 + \\hat \\mu^2]- \\big[\\frac{1}{n}\\sigma^2 + \\hat \\mu\\big]$$\n",
    "\n",
    "\n",
    "$$ \\frac{(n-1)}{n}E[S^2] = \\sigma^2 - \\frac{1}{n}\\sigma^2$$\n",
    "\n",
    "If n goes to sufficient large samples, then $ n-1= n $ and $\\frac{1}{n}\\sigma^2$ goes to zero.\n",
    "\n",
    "$$ E[S^2] = \\sigma^2 $$\n"
   ]
  },
  {
   "cell_type": "code",
   "execution_count": null,
   "metadata": {
    "colab": {},
    "colab_type": "code",
    "id": "PnUtYnNVaPtK"
   },
   "outputs": [],
   "source": []
  },
  {
   "cell_type": "markdown",
   "metadata": {
    "colab_type": "text",
    "id": "wY3EpM2QWHuc"
   },
   "source": [
    "<h3 style=\"color:rgb(0,120,170)\">Task:</h3>\n",
    "\n",
    "* Check if the estimator $\\hat\\mu = \\frac{1}{n} \\sum_{i}^{n} x_{i}$ is efficient."
   ]
  },
  {
   "cell_type": "markdown",
   "metadata": {
    "colab_type": "text",
    "id": "pMr3L-nRWHue"
   },
   "source": [
    "<h3 style=\"color:rgb(210,90,80)\">Calculation (15 points):</h3>\n",
    "\n",
    "** Solution: **\n",
    "\n",
    "As already shown the estimator is an unbiased, then the variance of this estimator is $ \\frac{\\sigma^2}{n} $ , as well, from task1, $ B_n(\\sigma) = nB(\\sigma) = \\frac{n}{2\\sigma^2} $\n",
    "\n",
    "As well, $ 0 \\le efficiency \\le 1 $ and the equation of efficiency can be defined to $ \\frac{1/B_n(\\sigma)}{Variance\\: of\\: the\\: estimator} $\n",
    "\n",
    "Hence, the efficiency of the estimator is $$ \\frac{\\frac{n}{2\\sigma^2}}{\\frac{\\sigma^2}{n}} =  \\frac{1}{2}$$"
   ]
  },
  {
   "cell_type": "code",
   "execution_count": null,
   "metadata": {
    "colab": {},
    "colab_type": "code",
    "id": "ZbNj87o1ASaP"
   },
   "outputs": [],
   "source": []
  }
 ],
 "metadata": {
  "colab": {
   "collapsed_sections": [],
   "name": "Assignment_1_ongoing_unsupervised.ipynb",
   "provenance": []
  },
  "kernelspec": {
   "display_name": "Python 3",
   "language": "python",
   "name": "python3"
  },
  "language_info": {
   "codemirror_mode": {
    "name": "ipython",
    "version": 3
   },
   "file_extension": ".py",
   "mimetype": "text/x-python",
   "name": "python",
   "nbconvert_exporter": "python",
   "pygments_lexer": "ipython3",
   "version": "3.7.6"
  }
 },
 "nbformat": 4,
 "nbformat_minor": 1
}
